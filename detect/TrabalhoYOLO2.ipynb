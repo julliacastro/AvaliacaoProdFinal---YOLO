{
  "nbformat": 4,
  "nbformat_minor": 0,
  "metadata": {
    "colab": {
      "provenance": []
    },
    "kernelspec": {
      "name": "python3",
      "display_name": "Python 3"
    },
    "language_info": {
      "name": "python"
    }
  },
  "cells": [
    {
      "cell_type": "code",
      "execution_count": null,
      "metadata": {
        "id": "w7mb_R1_zGZr"
      },
      "outputs": [],
      "source": [
        "!pip install ultralytics -q\n",
        "\n",
        "\n",
        "from google.colab import files\n",
        "uploaded = files.upload()\n",
        "\n",
        "import zipfile\n",
        "\n",
        "with zipfile.ZipFile(\"deteccaodeobjetos.zip\", 'r') as zip_ref:\n",
        "    zip_ref.extractall(\"meu_dataset\")\n",
        "\n",
        "print(\"Dataset extraído!\")\n"
      ]
    },
    {
      "cell_type": "code",
      "source": [
        "yaml_content = \"\"\"\n",
        "train: /content/meu_dataset/meu_dataset/train/images\n",
        "val: /content/meu_dataset/meu_dataset/valid/images\n",
        "\n",
        "nc: 10\n",
        "names: ['door', 'cabinetDoor', 'refrigeratorDoor', 'window', 'chair', 'table', 'cabinet', 'couch', 'openedDoor', 'pole']\n",
        "\"\"\"\n",
        "\n",
        "with open(\"/content/meu_dataset/data.yaml\", \"w\") as f:\n",
        "    f.write(yaml_content)\n",
        "\n",
        "print(\"Arquivo data.yaml recriado com sucesso!\")"
      ],
      "metadata": {
        "id": "JCBXX7xn4LoH"
      },
      "execution_count": null,
      "outputs": []
    },
    {
      "cell_type": "code",
      "source": [
        "!pip install ultralytics -q\n",
        "from ultralytics import YOLO\n",
        "import os\n",
        "\n",
        "os.chdir(\"/content/meu_dataset/\")\n",
        "\n",
        "model = YOLO(\"yolov8m.pt\")\n",
        "model.train(\n",
        "    data=\"data.yaml\",\n",
        "    epochs=15,\n",
        "    imgsz=640,\n",
        "    batch=8,\n",
        "    name=\"treino_yolov8m\"\n",
        ")\n",
        "\n",
        "os.chdir(\"/content/\")"
      ],
      "metadata": {
        "collapsed": true,
        "id": "ecEAToeP4V3m"
      },
      "execution_count": null,
      "outputs": []
    },
    {
      "cell_type": "code",
      "source": [
        "# salvando no drive\n",
        "from google.colab import drive\n",
        "drive.mount('/content/drive')"
      ],
      "metadata": {
        "id": "0pKTk2q0QrR-"
      },
      "execution_count": null,
      "outputs": []
    },
    {
      "cell_type": "code",
      "source": [
        "from ultralytics import YOLO\n",
        "\n",
        "# Carregar o modelo treinado (último estado salvo)\n",
        "model = YOLO(\"runs/detect/treino_yolov8m2/weights/last.pt\")\n",
        "\n",
        "# Avaliar no conjunto de validação\n",
        "metrics = model.val()\n",
        "()"
      ],
      "metadata": {
        "id": "yahEHx2W0nOw"
      },
      "execution_count": null,
      "outputs": []
    },
    {
      "cell_type": "code",
      "source": [
        "# baixando a pasta zip com os treinamentos\n",
        "!zip -r resultados_yolo.zip runs/detect/treino_final_leve3 runs/detect/val\n",
        "from google.colab import files\n",
        "files.download('resultados_yolo.zip')\n",
        "\n",
        "!zip -r resultados_yolo.zip runs/detect/treino_final_leve3 runs/detect/val2\n",
        "from google.colab import files\n",
        "files.download(\"resultados_yolo.zip\")\n",
        "\n"
      ],
      "metadata": {
        "id": "P1lfvT4C1fCW"
      },
      "execution_count": null,
      "outputs": []
    },
    {
      "cell_type": "code",
      "source": [
        "# inserindo os videos\n",
        "from google.colab import files\n",
        "uploaded = files.upload()\n"
      ],
      "metadata": {
        "id": "gb8Ex3_PJlvq"
      },
      "execution_count": null,
      "outputs": []
    },
    {
      "cell_type": "code",
      "source": [
        "# inserindo as metricas no video\n",
        "from ultralytics import YOLO\n",
        "\n",
        "model = YOLO(\"runs/detect/treino_yolov8m2/weights/last.pt\")\n",
        "\n",
        "\n",
        "model.predict(\n",
        "    source=\"video_sala3.mp4\",\n",
        "    save=True,\n",
        "    conf=0.25\n",
        ")\n"
      ],
      "metadata": {
        "collapsed": true,
        "id": "jAFgpWMPJ5Mo"
      },
      "execution_count": null,
      "outputs": []
    },
    {
      "cell_type": "code",
      "source": [
        "# baixando o video\n",
        "from google.colab import files\n",
        "files.download(\"runs/detect/predict/video_sala3.mp4\")"
      ],
      "metadata": {
        "id": "n8NyiFdqKmLi"
      },
      "execution_count": null,
      "outputs": []
    },
    {
      "cell_type": "markdown",
      "source": [
        "**testes de execução do código e investigação de erros:**"
      ],
      "metadata": {
        "id": "Ng5i0Jz_AN8i"
      }
    },
    {
      "cell_type": "code",
      "metadata": {
        "id": "d1c094fd"
      },
      "source": [
        "!ls -l runs/detect/predict/"
      ],
      "execution_count": null,
      "outputs": []
    },
    {
      "cell_type": "code",
      "metadata": {
        "id": "0f0253e9"
      },
      "source": [
        "!ls -R /content/meu_dataset/"
      ],
      "execution_count": null,
      "outputs": []
    },
    {
      "cell_type": "code",
      "source": [
        "!ls runs/detect/*/weights"
      ],
      "metadata": {
        "id": "gQWuTumT_vgL"
      },
      "execution_count": null,
      "outputs": []
    }
  ]
}